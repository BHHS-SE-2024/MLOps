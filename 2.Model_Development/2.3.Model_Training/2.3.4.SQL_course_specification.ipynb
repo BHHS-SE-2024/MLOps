{
 "cells": [
  {
   "cell_type": "markdown",
   "metadata": {},
   "source": [
    "[Home](../../README.md)\n",
    "\n",
    "### CSV Course Specifications\n",
    "\n",
    "This is a demonstration of the course specifications linear regression algorithm using a CSV for input. This allows students to use larger data sets.\n",
    "\n",
    "This can also be viewed as a Python script in [4.SQL.py](4.SQL.py)."
   ]
  },
  {
   "cell_type": "markdown",
   "metadata": {},
   "source": [
    "#### Step 1\n",
    "\n",
    "Load the five required dependencies:\n",
    "- [numpy](https://numpy.org/) a comprehensive library of mathematical functions, random number generators, linear algebra routines, Fourier transforms, and more.\n",
    "- [Scikit-learn](https://scikit-learn.org/stable/) a user friendly library of simple and efficient tools for predictive data analysis.\n",
    "- [Matplotlib](https://matplotlib.org) a comprehensive library for creating static, animated, and interactive visualizations in Python. A customised stylesheet for the visualisations is also applied.\n",
    "- [Pandas](https://pandas.pydata.org/) is library for data analysis and manipulation.\n",
    "- [SQLite3](https://docs.python.org/3/library/sqlite3.html) a library for interfacing with a SQLite3 serverless SQL database."
   ]
  },
  {
   "cell_type": "code",
   "execution_count": 4,
   "metadata": {},
   "outputs": [],
   "source": [
    "# Import frameworks\n",
    "import numpy as np\n",
    "import pandas as pd\n",
    "import sqlite3 as sql\n",
    "import matplotlib.pyplot as plt\n",
    "plt.style.use('../../style_Matplotlib_charts.mplstyle')\n",
    "from sklearn.linear_model import LinearRegression"
   ]
  },
  {
   "cell_type": "markdown",
   "metadata": {},
   "source": [
    "####  Step 2\n",
    "- Open the [SQLite3](4.SQLite3.db) database file\n",
    "- Migrate the data to\n",
    "    - Training features into the `x` variable as a 2D array object.\n",
    "    - Example targets into the `y` variable as a 1D array object."
   ]
  },
  {
   "cell_type": "code",
   "execution_count": null,
   "metadata": {},
   "outputs": [],
   "source": [
    "# Create the data for the feature and target\n",
    "con = sql.connect(\"4.SQlite3.db\")\n",
    "cur = con.cursor()\n",
    "col_0 = \"feature\"\n",
    "col_1 = \"target\"\n",
    "x = np.array(cur.execute(f\"SELECT {col_0} FROM data\").fetchall())\n",
    "y = np.array(cur.execute(f\"SELECT {col_1} FROM data\").fetchall()).flatten()\n",
    "con.close()"
   ]
  },
  {
   "cell_type": "markdown",
   "metadata": {},
   "source": [
    "#### Step 3\n",
    "\n",
    "Apply your Python skills and query the data set about how many training examples there are and inspect a sample of the data."
   ]
  },
  {
   "cell_type": "code",
   "execution_count": null,
   "metadata": {},
   "outputs": [],
   "source": [
    "m = len(x)\n",
    "print(f\"Number of training examples is: {m}\")\n",
    "table = pd.DataFrame({\n",
    "    col_0: x.flatten(),  # Flatten x for easy display\n",
    "    col_1: y\n",
    "})\n",
    "print(table.head())"
   ]
  },
  {
   "cell_type": "markdown",
   "metadata": {},
   "source": [
    "#### Step 4\n",
    "\n",
    "Plot the feature `x` and target `y` data on a graph using the column headings as the graph labels."
   ]
  },
  {
   "cell_type": "code",
   "execution_count": null,
   "metadata": {},
   "outputs": [],
   "source": [
    "# Plot the data points\n",
    "plt.scatter(x, y, marker='x', c='r')\n",
    "# Set the title\n",
    "plt.title(\"NESA Course Specifications Data\")\n",
    "# Set the y-axis label\n",
    "plt.ylabel(f'Training {col_0}')\n",
    "# Set the x-axis label\n",
    "plt.xlabel(f'Training {col_1}')\n",
    "plt.show()"
   ]
  },
  {
   "cell_type": "markdown",
   "metadata": {},
   "source": [
    "#### Step 5\n",
    "\n",
    "Use the [Scikit-learn](https://scikit-learn.org/stable/) library to instantiate a Machine Learning model class and store it in the `my_model` variable as an object."
   ]
  },
  {
   "cell_type": "code",
   "execution_count": 47,
   "metadata": {},
   "outputs": [],
   "source": [
    "# Create the model\n",
    "my_model = LinearRegression()"
   ]
  },
  {
   "cell_type": "markdown",
   "metadata": {},
   "source": [
    "#### Step 6\n",
    "\n",
    "Use the [sklearn](https://scikit-learn.org/stable/) library to fit the model to the training data which will provide a line of best fit with the lowest cost based on a [sklearn](https://scikit-learn.org/stable/) algorithm."
   ]
  },
  {
   "cell_type": "code",
   "execution_count": null,
   "metadata": {},
   "outputs": [],
   "source": [
    "# Fit the model to the data\n",
    "my_model.fit(x, y)"
   ]
  },
  {
   "cell_type": "markdown",
   "metadata": {},
   "source": [
    "#### Step 7\n",
    "\n",
    "Plot the features, targets and model (linear regression)."
   ]
  },
  {
   "cell_type": "code",
   "execution_count": null,
   "metadata": {},
   "outputs": [],
   "source": [
    "y_pred = my_model.predict(x)\n",
    "plt.plot(x, y_pred)\n",
    "plt.scatter(x, y, marker='x', c='r')\n",
    "plt.title(\"NESA Course Specifications Data\")\n",
    "plt.ylabel(f'Training {col_0}')\n",
    "plt.xlabel(f'Training {col_1}')\n",
    "plt.show()"
   ]
  },
  {
   "cell_type": "markdown",
   "metadata": {},
   "source": [
    "#### Step 8\n",
    "\n",
    "Use the model for predictions and plot them on the visualisation."
   ]
  },
  {
   "cell_type": "code",
   "execution_count": null,
   "metadata": {},
   "outputs": [],
   "source": [
    "predict = np.array([4]).reshape(1, -1)\n",
    "y_prediction = my_model.predict(predict)\n",
    "\n",
    "y_pred = my_model.predict(x)\n",
    "plt.plot(x, y_pred)\n",
    "plt.scatter(x, y, marker='x', c='r')\n",
    "plt.scatter(predict, y_prediction, marker='D', c='r', zorder=10, s=100)\n",
    "plt.text(y_prediction, predict, f\"Target {y_prediction[0]} is prediction from {predict[0,0]} input\")\n",
    "plt.title(\"NESA Course Specifications Data\")\n",
    "plt.ylabel(f'Training {col_0}')\n",
    "plt.xlabel(f'Training {col_1}')\n",
    "plt.show()\n"
   ]
  },
  {
   "cell_type": "markdown",
   "metadata": {},
   "source": [
    "#### Step 9\n",
    "\n",
    "Change the training data in in the [CSV file](course_specifications_data.csv), reload the data in 'Step 2', retrain the model in 'Step 6', evaluate the model in 'Step 7' and make predictions in 'Step 8'."
   ]
  }
 ],
 "metadata": {
  "kernelspec": {
   "display_name": "Python 3",
   "language": "python",
   "name": "python3"
  },
  "language_info": {
   "codemirror_mode": {
    "name": "ipython",
    "version": 3
   },
   "file_extension": ".py",
   "mimetype": "text/x-python",
   "name": "python",
   "nbconvert_exporter": "python",
   "pygments_lexer": "ipython3",
   "version": "3.12.6"
  }
 },
 "nbformat": 4,
 "nbformat_minor": 2
}
