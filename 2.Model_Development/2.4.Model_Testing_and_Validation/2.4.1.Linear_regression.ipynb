{
 "cells": [
  {
   "cell_type": "markdown",
   "metadata": {},
   "source": [
    "[Home](../../README.md)\n",
    "\n",
    "### Model Evaluation\n",
    "\n",
    "This is a demonstration of evaluating a model."
   ]
  },
  {
   "cell_type": "markdown",
   "metadata": {},
   "source": [
    "#### Step 1\n",
    "\n",
    "Load the required dependencies.\n"
   ]
  },
  {
   "cell_type": "code",
   "execution_count": 25,
   "metadata": {},
   "outputs": [],
   "source": [
    "# Import frameworks\n",
    "import numpy as np\n",
    "import pandas as pd\n",
    "import matplotlib.pyplot as plt\n",
    "plt.style.use('../../style_Matplotlib_charts.mplstyle')\n",
    "from sklearn.linear_model import LinearRegression\n",
    "import pickle"
   ]
  },
  {
   "cell_type": "markdown",
   "metadata": {},
   "source": [
    "####  Step 2\n",
    "\n",
    "Load the model for testing"
   ]
  },
  {
   "cell_type": "code",
   "execution_count": 26,
   "metadata": {},
   "outputs": [],
   "source": [
    "filename = 'my_saved_model_v1.sav'\n",
    "model_A = pickle.load(open(filename, 'rb'))\n"
   ]
  },
  {
   "cell_type": "markdown",
   "metadata": {},
   "source": [
    "(Optional) Load a second model if you want to do comparative testing"
   ]
  },
  {
   "cell_type": "code",
   "execution_count": 38,
   "metadata": {},
   "outputs": [],
   "source": [
    "filename = 'my_saved_model_v1.sav'\n",
    "model_B = pickle.load(open(filename, 'rb'))"
   ]
  },
  {
   "cell_type": "markdown",
   "metadata": {},
   "source": [
    "####  Step 3\n",
    "Open and parse the test data CSV file and store the data as variable array data objects."
   ]
  },
  {
   "cell_type": "code",
   "execution_count": 39,
   "metadata": {},
   "outputs": [],
   "source": [
    "x_col = 'BMI'\n",
    "testing_data = pd.read_csv('2.4.1.testing_data.csv')\n",
    "x_test = np.array(testing_data[x_col]).reshape(-1,1)\n",
    "y_test = np.array(testing_data['Target'])"
   ]
  },
  {
   "cell_type": "markdown",
   "metadata": {},
   "source": [
    "#### Step 5\n",
    "\n",
    "Plot the test data features, targets and linear regression model to visually evaluate the model."
   ]
  },
  {
   "cell_type": "code",
   "execution_count": 40,
   "metadata": {},
   "outputs": [
    {
     "data": {
      "image/png": "[encoded data removed]",
      "text/plain": [
       "<Figure size 640x480 with 1 Axes>"
      ]
     },
     "metadata": {},
     "output_type": "display_data"
    }
   ],
   "source": [
    "y_pred = model_A.predict(x_test)\n",
    "plt.plot(x_test, y_pred)\n",
    "plt.scatter(x_test, y_test, marker='x', c='r')\n",
    "plt.title(\"NESA Course Specifications Data\")\n",
    "plt.ylabel(f'Testing {x_col}')\n",
    "plt.xlabel(f'Testing Target')\n",
    "plt.show()"
   ]
  },
  {
   "cell_type": "markdown",
   "metadata": {},
   "source": [
    "#### Step 6\n",
    "\n",
    "Use the 'score' method of the `LinearRegression` class to return a score based evaluation of the models accuracy or performance."
   ]
  },
  {
   "cell_type": "code",
   "execution_count": 33,
   "metadata": {},
   "outputs": [
    {
     "name": "stdout",
     "output_type": "stream",
     "text": [
      "Training data score: 0.20106889549864904\n"
     ]
    }
   ],
   "source": [
    "test_score = model_A.score(x_test, y_test)\n",
    "print(f'Training data score: {test_score}')"
   ]
  },
  {
   "cell_type": "markdown",
   "metadata": {},
   "source": [
    "#### Step 7\n",
    "\n",
    "Manually calculate and evaluate the 'cost' of the model using the test data."
   ]
  },
  {
   "cell_type": "code",
   "execution_count": 35,
   "metadata": {},
   "outputs": [
    {
     "name": "stdout",
     "output_type": "stream",
     "text": [
      "     DoB    DoT  Predicted result    Cost\n",
      "0   26.0   68.0        149.461942  -81.46\n",
      "1   26.8  200.0        156.777442   43.22\n",
      "2   32.1  281.0        205.242631   75.76\n",
      "3   35.0  140.0        231.761319  -91.76\n",
      "4   21.9   96.0        111.970004  -15.97\n",
      "5   18.5   90.0         80.879128    9.12\n",
      "6   28.5  265.0        172.322880   92.68\n",
      "7   30.6  202.0        191.526068   10.47\n",
      "8   20.4   96.0         98.253441   -2.25\n",
      "9   28.2  262.0        169.579567   92.42\n",
      "10  28.3  281.0        170.494005  110.51\n",
      "11  30.4  103.0        189.697193  -86.70\n",
      "12  26.0   88.0        149.461942  -61.46\n",
      "13  20.5   37.0         99.167879  -62.17\n",
      "14  25.2  160.0        142.146442   17.85\n",
      "15  23.2  140.0        123.857692   16.14\n",
      "16  19.2  137.0         87.280191   49.72\n",
      "17  29.3  296.0        179.638380  116.36\n",
      "18  22.1  114.0        113.798879    0.20\n",
      "19  30.0  220.0        186.039443   33.96\n",
      "20  26.0  198.0        149.461942   48.54\n",
      "21  23.4   78.0        125.686567  -47.69\n",
      "22  30.7   99.0        192.440505  -93.44\n",
      "23  24.8   90.0        138.488692  -48.49\n",
      "24  25.6   81.0        145.804192  -64.80\n",
      "25  20.9   64.0        102.825629  -38.83\n",
      "26  25.6   31.0        145.804192 -114.80\n",
      "27  21.3   42.0        106.483379  -64.48\n",
      "28  28.8  283.0        175.066193  107.93\n",
      "29  26.0   61.0        149.461942  -88.46\n",
      "30  24.3   84.0        133.916504  -49.92\n",
      "31  19.9   48.0         93.681254  -45.68\n",
      "32  22.9  113.0        121.114379   -8.11\n",
      "33  20.2   79.0         96.424566  -17.42\n",
      "34  36.6  258.0        246.392319   11.61\n",
      "35  26.1  141.0        150.376380   -9.38\n",
      "36  27.0  182.0        158.606317   23.39\n",
      "37  20.0   72.0         94.595691  -22.60\n",
      "38  32.0  132.0        204.328193  -72.33\n",
      "39  23.2  190.0        123.857692   66.14\n",
      "40  32.4   95.0        207.985943 -112.99\n",
      "41  23.5  154.0        126.601004   27.40\n",
      "42  30.8  258.0        193.354943   64.65\n",
      "43  22.5  185.0        117.456629   67.54\n",
      "44  31.2  164.0        197.012693  -33.01\n",
      "45  22.7   65.0        119.285504  -54.29\n",
      "46  27.0  109.0        158.606317  -49.61\n",
      "47  21.3   60.0        106.483379  -46.48\n",
      "48  22.0  200.0        112.884441   87.12\n",
      "49  20.5   65.0         99.167879  -34.17\n",
      "50  18.6  101.0         81.793566   19.21\n",
      "51  21.0  252.0        103.740066  148.26\n",
      "52  24.2   92.0        133.002067  -41.00\n",
      "53  21.0   63.0        103.740066  -40.74\n",
      "54  26.9  249.0        157.691880   91.31\n",
      "55  24.4  281.0        134.830942  146.17\n",
      "56  28.8   52.0        175.066193 -123.07\n",
      "57  32.7  121.0        210.729256  -89.73\n",
      "58  23.4   87.0        125.686567  -38.69\n"
     ]
    }
   ],
   "source": [
    "table = pd.DataFrame({\n",
    "    testing_data.columns[0]: x_test.flatten(),  # Flatten x for easy display\n",
    "    testing_data.columns[1]: y_test,\n",
    "    'Predicted result':model_A.predict(x_test),\n",
    "    'Cost' : y_test - model_A.predict(x_test).round(2)\n",
    "})\n",
    "print(table)"
   ]
  },
  {
   "cell_type": "markdown",
   "metadata": {},
   "source": [
    "#### Step 8\n",
    "\n",
    "Evaluate the X axis intercept and gradient or coefficient of your model by using the getter methods to return the intercept and coefficient from my_model() object."
   ]
  },
  {
   "cell_type": "code",
   "execution_count": 37,
   "metadata": {},
   "outputs": [
    {
     "name": "stdout",
     "output_type": "stream",
     "text": [
      "X Axis intercept: -88.29181200063093\n",
      "Coefficient: [9.14437516]\n"
     ]
    }
   ],
   "source": [
    "print(f'X Axis intercept: {model_A.intercept_}')\n",
    "print(f'Coefficient: {model_A.coef_}')"
   ]
  },
  {
   "cell_type": "markdown",
   "metadata": {},
   "source": [
    "#### Step 10\n",
    "\n",
    "When your model is ready for operations, move it to the [3.Operations\\3.1.Deploy_Model](\\3.Operations\\3.1.Deploy_Model) folder."
   ]
  }
 ],
 "metadata": {
  "kernelspec": {
   "display_name": "Python 3",
   "language": "python",
   "name": "python3"
  },
  "language_info": {
   "codemirror_mode": {
    "name": "ipython",
    "version": 3
   },
   "file_extension": ".py",
   "mimetype": "text/x-python",
   "name": "python",
   "nbconvert_exporter": "python",
   "pygments_lexer": "ipython3",
   "version": "3.12.6"
  }
 },
 "nbformat": 4,
 "nbformat_minor": 2
}
